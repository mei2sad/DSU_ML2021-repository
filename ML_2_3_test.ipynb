{
  "nbformat": 4,
  "nbformat_minor": 0,
  "metadata": {
    "colab": {
      "name": "ML_2-3_test.ipynb",
      "provenance": [],
      "authorship_tag": "ABX9TyM/cmdocByKz/xFD/cQI3RG",
      "include_colab_link": true
    },
    "kernelspec": {
      "name": "python3",
      "display_name": "Python 3"
    }
  },
  "cells": [
    {
      "cell_type": "markdown",
      "metadata": {
        "id": "view-in-github",
        "colab_type": "text"
      },
      "source": [
        "<a href=\"https://colab.research.google.com/github/mei2sad/DSU_ML2021-repository/blob/main/ML_2_3_test.ipynb\" target=\"_parent\"><img src=\"https://colab.research.google.com/assets/colab-badge.svg\" alt=\"Open In Colab\"/></a>"
      ]
    },
    {
      "cell_type": "code",
      "metadata": {
        "colab": {
          "base_uri": "https://localhost:8080/"
        },
        "id": "3ocx5P4GFONN",
        "outputId": "500a9279-717c-422a-e10f-e0e0801ca2d7"
      },
      "source": [
        "print(\"hello world!\")\r\n",
        "print(\"test test\")\r\n",
        "print(\"gogogo\")"
      ],
      "execution_count": null,
      "outputs": [
        {
          "output_type": "stream",
          "text": [
            "hello world!\n"
          ],
          "name": "stdout"
        }
      ]
    }
  ]
}